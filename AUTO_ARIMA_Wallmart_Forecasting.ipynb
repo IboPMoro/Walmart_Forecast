{
  "nbformat": 4,
  "nbformat_minor": 0,
  "metadata": {
    "colab": {
      "provenance": [],
      "authorship_tag": "ABX9TyNSja+0CdrOW9bNMOlUViIl",
      "include_colab_link": true
    },
    "kernelspec": {
      "name": "python3",
      "display_name": "Python 3"
    },
    "language_info": {
      "name": "python"
    }
  },
  "cells": [
    {
      "cell_type": "markdown",
      "metadata": {
        "id": "view-in-github",
        "colab_type": "text"
      },
      "source": [
        "<a href=\"https://colab.research.google.com/github/IboPMoro/Walmart_Forecast/blob/main/AUTO_ARIMA_Wallmart_Forecasting.ipynb\" target=\"_parent\"><img src=\"https://colab.research.google.com/assets/colab-badge.svg\" alt=\"Open In Colab\"/></a>"
      ]
    },
    {
      "cell_type": "code",
      "source": [
        "!pip install pmdarima"
      ],
      "metadata": {
        "colab": {
          "base_uri": "https://localhost:8080/"
        },
        "id": "AepUbr5mVgvX",
        "outputId": "8286403c-2568-46ed-9405-87a22f27c304"
      },
      "execution_count": null,
      "outputs": [
        {
          "output_type": "stream",
          "name": "stdout",
          "text": [
            "Looking in indexes: https://pypi.org/simple, https://us-python.pkg.dev/colab-wheels/public/simple/\n",
            "Collecting pmdarima\n",
            "  Downloading pmdarima-2.0.2-cp38-cp38-manylinux_2_17_x86_64.manylinux2014_x86_64.manylinux_2_28_x86_64.whl (1.9 MB)\n",
            "\u001b[K     |████████████████████████████████| 1.9 MB 15.7 MB/s \n",
            "\u001b[?25hRequirement already satisfied: numpy>=1.21.2 in /usr/local/lib/python3.8/dist-packages (from pmdarima) (1.21.6)\n",
            "Requirement already satisfied: scikit-learn>=0.22 in /usr/local/lib/python3.8/dist-packages (from pmdarima) (1.0.2)\n",
            "Requirement already satisfied: joblib>=0.11 in /usr/local/lib/python3.8/dist-packages (from pmdarima) (1.2.0)\n",
            "Requirement already satisfied: Cython!=0.29.18,!=0.29.31,>=0.29 in /usr/local/lib/python3.8/dist-packages (from pmdarima) (0.29.32)\n",
            "Requirement already satisfied: urllib3 in /usr/local/lib/python3.8/dist-packages (from pmdarima) (1.24.3)\n",
            "Requirement already satisfied: setuptools!=50.0.0,>=38.6.0 in /usr/local/lib/python3.8/dist-packages (from pmdarima) (57.4.0)\n",
            "Requirement already satisfied: scipy>=1.3.2 in /usr/local/lib/python3.8/dist-packages (from pmdarima) (1.7.3)\n",
            "Collecting statsmodels>=0.13.2\n",
            "  Downloading statsmodels-0.13.5-cp38-cp38-manylinux_2_17_x86_64.manylinux2014_x86_64.whl (9.9 MB)\n",
            "\u001b[K     |████████████████████████████████| 9.9 MB 41.6 MB/s \n",
            "\u001b[?25hRequirement already satisfied: pandas>=0.19 in /usr/local/lib/python3.8/dist-packages (from pmdarima) (1.3.5)\n",
            "Requirement already satisfied: pytz>=2017.3 in /usr/local/lib/python3.8/dist-packages (from pandas>=0.19->pmdarima) (2022.6)\n",
            "Requirement already satisfied: python-dateutil>=2.7.3 in /usr/local/lib/python3.8/dist-packages (from pandas>=0.19->pmdarima) (2.8.2)\n",
            "Requirement already satisfied: six>=1.5 in /usr/local/lib/python3.8/dist-packages (from python-dateutil>=2.7.3->pandas>=0.19->pmdarima) (1.15.0)\n",
            "Requirement already satisfied: threadpoolctl>=2.0.0 in /usr/local/lib/python3.8/dist-packages (from scikit-learn>=0.22->pmdarima) (3.1.0)\n",
            "Requirement already satisfied: patsy>=0.5.2 in /usr/local/lib/python3.8/dist-packages (from statsmodels>=0.13.2->pmdarima) (0.5.3)\n",
            "Requirement already satisfied: packaging>=21.3 in /usr/local/lib/python3.8/dist-packages (from statsmodels>=0.13.2->pmdarima) (21.3)\n",
            "Requirement already satisfied: pyparsing!=3.0.5,>=2.0.2 in /usr/local/lib/python3.8/dist-packages (from packaging>=21.3->statsmodels>=0.13.2->pmdarima) (3.0.9)\n",
            "Installing collected packages: statsmodels, pmdarima\n",
            "  Attempting uninstall: statsmodels\n",
            "    Found existing installation: statsmodels 0.12.2\n",
            "    Uninstalling statsmodels-0.12.2:\n",
            "      Successfully uninstalled statsmodels-0.12.2\n",
            "Successfully installed pmdarima-2.0.2 statsmodels-0.13.5\n"
          ]
        }
      ]
    },
    {
      "cell_type": "code",
      "source": [
        "!pip install colorama"
      ],
      "metadata": {
        "id": "kt8qwQSebwDm"
      },
      "execution_count": null,
      "outputs": []
    },
    {
      "cell_type": "code",
      "execution_count": null,
      "metadata": {
        "colab": {
          "base_uri": "https://localhost:8080/"
        },
        "id": "2mbaGqfeQrtN",
        "outputId": "56c68859-73fc-4ef7-a274-2ec01783f5c5"
      },
      "outputs": [
        {
          "output_type": "stream",
          "name": "stdout",
          "text": [
            "Mounted at /content/drive\n"
          ]
        }
      ],
      "source": [
        "import pandas as pd\n",
        "import matplotlib.pyplot as plt\n",
        "import plotly.express as px\n",
        "from google.colab import drive \n",
        "import numpy as np\n",
        "drive.mount('/content/drive', force_remount=True) \n",
        "import seaborn as sns \n",
        "from colorama import Fore\n",
        "from sklearn.metrics import mean_absolute_error, mean_squared_error,mean_absolute_percentage_error\n",
        "from sklearn.preprocessing import MinMaxScaler\n",
        "import math\n",
        "import warnings\n",
        "from keras.models import Sequential\n",
        "from keras.layers import Dense, LSTM \n",
        "warnings.filterwarnings('ignore')\n",
        "\n",
        "np.random.seed(7)"
      ]
    },
    {
      "cell_type": "code",
      "source": [
        "from statsmodels.tsa.seasonal import seasonal_decompose"
      ],
      "metadata": {
        "id": "Bt-PD55T05TN"
      },
      "execution_count": null,
      "outputs": []
    },
    {
      "cell_type": "code",
      "source": [
        "df = pd.read_csv('/content/drive/MyDrive/Proyecto Final/Walmart_Store_sales.csv')\n",
        "pd.options.display.float_format = '{:,.2f}'.format "
      ],
      "metadata": {
        "id": "YqNO2SgwSgjU"
      },
      "execution_count": null,
      "outputs": []
    },
    {
      "cell_type": "code",
      "source": [
        "df['Date'] = pd.to_datetime(df['Date']).dt.date"
      ],
      "metadata": {
        "id": "S_q-l7cJTcnB"
      },
      "execution_count": null,
      "outputs": []
    },
    {
      "cell_type": "code",
      "source": [
        "data = df[['Date','Weekly_Sales']].copy()\n",
        "data.dropna(inplace=True)\n",
        "data.columns = ['Week','Sales']\n",
        "data"
      ],
      "metadata": {
        "colab": {
          "base_uri": "https://localhost:8080/",
          "height": 424
        },
        "id": "uOeAdvhcSj9x",
        "outputId": "741d124d-d65b-4179-93dc-1c24e82d7d21"
      },
      "execution_count": null,
      "outputs": [
        {
          "output_type": "execute_result",
          "data": {
            "text/plain": [
              "            Week        Sales\n",
              "0     2010-05-02 1,643,690.90\n",
              "1     2010-12-02 1,641,957.44\n",
              "2     2010-02-19 1,611,968.17\n",
              "3     2010-02-26 1,409,727.59\n",
              "4     2010-05-03 1,554,806.68\n",
              "...          ...          ...\n",
              "6430  2012-09-28   713,173.95\n",
              "6431  2012-05-10   733,455.07\n",
              "6432  2012-12-10   734,464.36\n",
              "6433  2012-10-19   718,125.53\n",
              "6434  2012-10-26   760,281.43\n",
              "\n",
              "[6435 rows x 2 columns]"
            ],
            "text/html": [
              "\n",
              "  <div id=\"df-7989cb48-bc75-4008-9ade-363a4dcaefec\">\n",
              "    <div class=\"colab-df-container\">\n",
              "      <div>\n",
              "<style scoped>\n",
              "    .dataframe tbody tr th:only-of-type {\n",
              "        vertical-align: middle;\n",
              "    }\n",
              "\n",
              "    .dataframe tbody tr th {\n",
              "        vertical-align: top;\n",
              "    }\n",
              "\n",
              "    .dataframe thead th {\n",
              "        text-align: right;\n",
              "    }\n",
              "</style>\n",
              "<table border=\"1\" class=\"dataframe\">\n",
              "  <thead>\n",
              "    <tr style=\"text-align: right;\">\n",
              "      <th></th>\n",
              "      <th>Week</th>\n",
              "      <th>Sales</th>\n",
              "    </tr>\n",
              "  </thead>\n",
              "  <tbody>\n",
              "    <tr>\n",
              "      <th>0</th>\n",
              "      <td>2010-05-02</td>\n",
              "      <td>1,643,690.90</td>\n",
              "    </tr>\n",
              "    <tr>\n",
              "      <th>1</th>\n",
              "      <td>2010-12-02</td>\n",
              "      <td>1,641,957.44</td>\n",
              "    </tr>\n",
              "    <tr>\n",
              "      <th>2</th>\n",
              "      <td>2010-02-19</td>\n",
              "      <td>1,611,968.17</td>\n",
              "    </tr>\n",
              "    <tr>\n",
              "      <th>3</th>\n",
              "      <td>2010-02-26</td>\n",
              "      <td>1,409,727.59</td>\n",
              "    </tr>\n",
              "    <tr>\n",
              "      <th>4</th>\n",
              "      <td>2010-05-03</td>\n",
              "      <td>1,554,806.68</td>\n",
              "    </tr>\n",
              "    <tr>\n",
              "      <th>...</th>\n",
              "      <td>...</td>\n",
              "      <td>...</td>\n",
              "    </tr>\n",
              "    <tr>\n",
              "      <th>6430</th>\n",
              "      <td>2012-09-28</td>\n",
              "      <td>713,173.95</td>\n",
              "    </tr>\n",
              "    <tr>\n",
              "      <th>6431</th>\n",
              "      <td>2012-05-10</td>\n",
              "      <td>733,455.07</td>\n",
              "    </tr>\n",
              "    <tr>\n",
              "      <th>6432</th>\n",
              "      <td>2012-12-10</td>\n",
              "      <td>734,464.36</td>\n",
              "    </tr>\n",
              "    <tr>\n",
              "      <th>6433</th>\n",
              "      <td>2012-10-19</td>\n",
              "      <td>718,125.53</td>\n",
              "    </tr>\n",
              "    <tr>\n",
              "      <th>6434</th>\n",
              "      <td>2012-10-26</td>\n",
              "      <td>760,281.43</td>\n",
              "    </tr>\n",
              "  </tbody>\n",
              "</table>\n",
              "<p>6435 rows × 2 columns</p>\n",
              "</div>\n",
              "      <button class=\"colab-df-convert\" onclick=\"convertToInteractive('df-7989cb48-bc75-4008-9ade-363a4dcaefec')\"\n",
              "              title=\"Convert this dataframe to an interactive table.\"\n",
              "              style=\"display:none;\">\n",
              "        \n",
              "  <svg xmlns=\"http://www.w3.org/2000/svg\" height=\"24px\"viewBox=\"0 0 24 24\"\n",
              "       width=\"24px\">\n",
              "    <path d=\"M0 0h24v24H0V0z\" fill=\"none\"/>\n",
              "    <path d=\"M18.56 5.44l.94 2.06.94-2.06 2.06-.94-2.06-.94-.94-2.06-.94 2.06-2.06.94zm-11 1L8.5 8.5l.94-2.06 2.06-.94-2.06-.94L8.5 2.5l-.94 2.06-2.06.94zm10 10l.94 2.06.94-2.06 2.06-.94-2.06-.94-.94-2.06-.94 2.06-2.06.94z\"/><path d=\"M17.41 7.96l-1.37-1.37c-.4-.4-.92-.59-1.43-.59-.52 0-1.04.2-1.43.59L10.3 9.45l-7.72 7.72c-.78.78-.78 2.05 0 2.83L4 21.41c.39.39.9.59 1.41.59.51 0 1.02-.2 1.41-.59l7.78-7.78 2.81-2.81c.8-.78.8-2.07 0-2.86zM5.41 20L4 18.59l7.72-7.72 1.47 1.35L5.41 20z\"/>\n",
              "  </svg>\n",
              "      </button>\n",
              "      \n",
              "  <style>\n",
              "    .colab-df-container {\n",
              "      display:flex;\n",
              "      flex-wrap:wrap;\n",
              "      gap: 12px;\n",
              "    }\n",
              "\n",
              "    .colab-df-convert {\n",
              "      background-color: #E8F0FE;\n",
              "      border: none;\n",
              "      border-radius: 50%;\n",
              "      cursor: pointer;\n",
              "      display: none;\n",
              "      fill: #1967D2;\n",
              "      height: 32px;\n",
              "      padding: 0 0 0 0;\n",
              "      width: 32px;\n",
              "    }\n",
              "\n",
              "    .colab-df-convert:hover {\n",
              "      background-color: #E2EBFA;\n",
              "      box-shadow: 0px 1px 2px rgba(60, 64, 67, 0.3), 0px 1px 3px 1px rgba(60, 64, 67, 0.15);\n",
              "      fill: #174EA6;\n",
              "    }\n",
              "\n",
              "    [theme=dark] .colab-df-convert {\n",
              "      background-color: #3B4455;\n",
              "      fill: #D2E3FC;\n",
              "    }\n",
              "\n",
              "    [theme=dark] .colab-df-convert:hover {\n",
              "      background-color: #434B5C;\n",
              "      box-shadow: 0px 1px 3px 1px rgba(0, 0, 0, 0.15);\n",
              "      filter: drop-shadow(0px 1px 2px rgba(0, 0, 0, 0.3));\n",
              "      fill: #FFFFFF;\n",
              "    }\n",
              "  </style>\n",
              "\n",
              "      <script>\n",
              "        const buttonEl =\n",
              "          document.querySelector('#df-7989cb48-bc75-4008-9ade-363a4dcaefec button.colab-df-convert');\n",
              "        buttonEl.style.display =\n",
              "          google.colab.kernel.accessAllowed ? 'block' : 'none';\n",
              "\n",
              "        async function convertToInteractive(key) {\n",
              "          const element = document.querySelector('#df-7989cb48-bc75-4008-9ade-363a4dcaefec');\n",
              "          const dataTable =\n",
              "            await google.colab.kernel.invokeFunction('convertToInteractive',\n",
              "                                                     [key], {});\n",
              "          if (!dataTable) return;\n",
              "\n",
              "          const docLinkHtml = 'Like what you see? Visit the ' +\n",
              "            '<a target=\"_blank\" href=https://colab.research.google.com/notebooks/data_table.ipynb>data table notebook</a>'\n",
              "            + ' to learn more about interactive tables.';\n",
              "          element.innerHTML = '';\n",
              "          dataTable['output_type'] = 'display_data';\n",
              "          await google.colab.output.renderOutput(dataTable, element);\n",
              "          const docLink = document.createElement('div');\n",
              "          docLink.innerHTML = docLinkHtml;\n",
              "          element.appendChild(docLink);\n",
              "        }\n",
              "      </script>\n",
              "    </div>\n",
              "  </div>\n",
              "  "
            ]
          },
          "metadata": {},
          "execution_count": 100
        }
      ]
    },
    {
      "cell_type": "code",
      "source": [
        "data = pd.DataFrame(data.groupby('Week',as_index=False)['Sales'].sum()).copy()\n",
        "data"
      ],
      "metadata": {
        "colab": {
          "base_uri": "https://localhost:8080/",
          "height": 424
        },
        "id": "_AYVgwn6Sp9d",
        "outputId": "1a904f5b-149e-483f-c1e7-e60ee66ac44b"
      },
      "execution_count": null,
      "outputs": [
        {
          "output_type": "execute_result",
          "data": {
            "text/plain": [
              "           Week         Sales\n",
              "0    2010-01-10 42,239,875.87\n",
              "1    2010-02-04 50,423,831.26\n",
              "2    2010-02-07 48,917,484.50\n",
              "3    2010-02-19 48,276,993.78\n",
              "4    2010-02-26 43,968,571.13\n",
              "..          ...           ...\n",
              "138  2012-10-08 47,403,451.04\n",
              "139  2012-10-19 45,122,410.57\n",
              "140  2012-10-26 45,544,116.29\n",
              "141  2012-11-05 46,925,878.99\n",
              "142  2012-12-10 46,128,514.25\n",
              "\n",
              "[143 rows x 2 columns]"
            ],
            "text/html": [
              "\n",
              "  <div id=\"df-8b213170-f705-4f9a-9869-ff4fa25140c4\">\n",
              "    <div class=\"colab-df-container\">\n",
              "      <div>\n",
              "<style scoped>\n",
              "    .dataframe tbody tr th:only-of-type {\n",
              "        vertical-align: middle;\n",
              "    }\n",
              "\n",
              "    .dataframe tbody tr th {\n",
              "        vertical-align: top;\n",
              "    }\n",
              "\n",
              "    .dataframe thead th {\n",
              "        text-align: right;\n",
              "    }\n",
              "</style>\n",
              "<table border=\"1\" class=\"dataframe\">\n",
              "  <thead>\n",
              "    <tr style=\"text-align: right;\">\n",
              "      <th></th>\n",
              "      <th>Week</th>\n",
              "      <th>Sales</th>\n",
              "    </tr>\n",
              "  </thead>\n",
              "  <tbody>\n",
              "    <tr>\n",
              "      <th>0</th>\n",
              "      <td>2010-01-10</td>\n",
              "      <td>42,239,875.87</td>\n",
              "    </tr>\n",
              "    <tr>\n",
              "      <th>1</th>\n",
              "      <td>2010-02-04</td>\n",
              "      <td>50,423,831.26</td>\n",
              "    </tr>\n",
              "    <tr>\n",
              "      <th>2</th>\n",
              "      <td>2010-02-07</td>\n",
              "      <td>48,917,484.50</td>\n",
              "    </tr>\n",
              "    <tr>\n",
              "      <th>3</th>\n",
              "      <td>2010-02-19</td>\n",
              "      <td>48,276,993.78</td>\n",
              "    </tr>\n",
              "    <tr>\n",
              "      <th>4</th>\n",
              "      <td>2010-02-26</td>\n",
              "      <td>43,968,571.13</td>\n",
              "    </tr>\n",
              "    <tr>\n",
              "      <th>...</th>\n",
              "      <td>...</td>\n",
              "      <td>...</td>\n",
              "    </tr>\n",
              "    <tr>\n",
              "      <th>138</th>\n",
              "      <td>2012-10-08</td>\n",
              "      <td>47,403,451.04</td>\n",
              "    </tr>\n",
              "    <tr>\n",
              "      <th>139</th>\n",
              "      <td>2012-10-19</td>\n",
              "      <td>45,122,410.57</td>\n",
              "    </tr>\n",
              "    <tr>\n",
              "      <th>140</th>\n",
              "      <td>2012-10-26</td>\n",
              "      <td>45,544,116.29</td>\n",
              "    </tr>\n",
              "    <tr>\n",
              "      <th>141</th>\n",
              "      <td>2012-11-05</td>\n",
              "      <td>46,925,878.99</td>\n",
              "    </tr>\n",
              "    <tr>\n",
              "      <th>142</th>\n",
              "      <td>2012-12-10</td>\n",
              "      <td>46,128,514.25</td>\n",
              "    </tr>\n",
              "  </tbody>\n",
              "</table>\n",
              "<p>143 rows × 2 columns</p>\n",
              "</div>\n",
              "      <button class=\"colab-df-convert\" onclick=\"convertToInteractive('df-8b213170-f705-4f9a-9869-ff4fa25140c4')\"\n",
              "              title=\"Convert this dataframe to an interactive table.\"\n",
              "              style=\"display:none;\">\n",
              "        \n",
              "  <svg xmlns=\"http://www.w3.org/2000/svg\" height=\"24px\"viewBox=\"0 0 24 24\"\n",
              "       width=\"24px\">\n",
              "    <path d=\"M0 0h24v24H0V0z\" fill=\"none\"/>\n",
              "    <path d=\"M18.56 5.44l.94 2.06.94-2.06 2.06-.94-2.06-.94-.94-2.06-.94 2.06-2.06.94zm-11 1L8.5 8.5l.94-2.06 2.06-.94-2.06-.94L8.5 2.5l-.94 2.06-2.06.94zm10 10l.94 2.06.94-2.06 2.06-.94-2.06-.94-.94-2.06-.94 2.06-2.06.94z\"/><path d=\"M17.41 7.96l-1.37-1.37c-.4-.4-.92-.59-1.43-.59-.52 0-1.04.2-1.43.59L10.3 9.45l-7.72 7.72c-.78.78-.78 2.05 0 2.83L4 21.41c.39.39.9.59 1.41.59.51 0 1.02-.2 1.41-.59l7.78-7.78 2.81-2.81c.8-.78.8-2.07 0-2.86zM5.41 20L4 18.59l7.72-7.72 1.47 1.35L5.41 20z\"/>\n",
              "  </svg>\n",
              "      </button>\n",
              "      \n",
              "  <style>\n",
              "    .colab-df-container {\n",
              "      display:flex;\n",
              "      flex-wrap:wrap;\n",
              "      gap: 12px;\n",
              "    }\n",
              "\n",
              "    .colab-df-convert {\n",
              "      background-color: #E8F0FE;\n",
              "      border: none;\n",
              "      border-radius: 50%;\n",
              "      cursor: pointer;\n",
              "      display: none;\n",
              "      fill: #1967D2;\n",
              "      height: 32px;\n",
              "      padding: 0 0 0 0;\n",
              "      width: 32px;\n",
              "    }\n",
              "\n",
              "    .colab-df-convert:hover {\n",
              "      background-color: #E2EBFA;\n",
              "      box-shadow: 0px 1px 2px rgba(60, 64, 67, 0.3), 0px 1px 3px 1px rgba(60, 64, 67, 0.15);\n",
              "      fill: #174EA6;\n",
              "    }\n",
              "\n",
              "    [theme=dark] .colab-df-convert {\n",
              "      background-color: #3B4455;\n",
              "      fill: #D2E3FC;\n",
              "    }\n",
              "\n",
              "    [theme=dark] .colab-df-convert:hover {\n",
              "      background-color: #434B5C;\n",
              "      box-shadow: 0px 1px 3px 1px rgba(0, 0, 0, 0.15);\n",
              "      filter: drop-shadow(0px 1px 2px rgba(0, 0, 0, 0.3));\n",
              "      fill: #FFFFFF;\n",
              "    }\n",
              "  </style>\n",
              "\n",
              "      <script>\n",
              "        const buttonEl =\n",
              "          document.querySelector('#df-8b213170-f705-4f9a-9869-ff4fa25140c4 button.colab-df-convert');\n",
              "        buttonEl.style.display =\n",
              "          google.colab.kernel.accessAllowed ? 'block' : 'none';\n",
              "\n",
              "        async function convertToInteractive(key) {\n",
              "          const element = document.querySelector('#df-8b213170-f705-4f9a-9869-ff4fa25140c4');\n",
              "          const dataTable =\n",
              "            await google.colab.kernel.invokeFunction('convertToInteractive',\n",
              "                                                     [key], {});\n",
              "          if (!dataTable) return;\n",
              "\n",
              "          const docLinkHtml = 'Like what you see? Visit the ' +\n",
              "            '<a target=\"_blank\" href=https://colab.research.google.com/notebooks/data_table.ipynb>data table notebook</a>'\n",
              "            + ' to learn more about interactive tables.';\n",
              "          element.innerHTML = '';\n",
              "          dataTable['output_type'] = 'display_data';\n",
              "          await google.colab.output.renderOutput(dataTable, element);\n",
              "          const docLink = document.createElement('div');\n",
              "          docLink.innerHTML = docLinkHtml;\n",
              "          element.appendChild(docLink);\n",
              "        }\n",
              "      </script>\n",
              "    </div>\n",
              "  </div>\n",
              "  "
            ]
          },
          "metadata": {},
          "execution_count": 101
        }
      ]
    },
    {
      "cell_type": "code",
      "source": [
        "data['Week'] = pd.to_datetime(data['Week'])\n",
        "data.set_index('Week',inplace=True)"
      ],
      "metadata": {
        "id": "wLTAk2i1sXCW"
      },
      "execution_count": null,
      "outputs": []
    },
    {
      "cell_type": "code",
      "source": [
        "ax = data.plot(figsize=(10, 8))\n",
        "ax.set_ylabel('Weekly_Sales')\n",
        "ax.set_xlabel('Date')\n",
        "plt.show()"
      ],
      "metadata": {
        "id": "Tnx0TtO_o8qv",
        "colab": {
          "base_uri": "https://localhost:8080/",
          "height": 484
        },
        "outputId": "fa9c0e43-144f-4e81-bde5-bbe975dbbc8e"
      },
      "execution_count": null,
      "outputs": [
        {
          "output_type": "display_data",
          "data": {
            "text/plain": [
              "<Figure size 720x576 with 1 Axes>"
            ],
            "image/png": "[encoded data removed]"
          },
          "metadata": {
            "needs_background": "light"
          }
        }
      ]
    },
    {
      "cell_type": "code",
      "source": [
        "from statsmodels.graphics.tsaplots import plot_acf, plot_pacf\n",
        "\n",
        "acf_orginial = plot_acf(data)\n",
        "\n",
        "pacf_original = plot_pacf(data) "
      ],
      "metadata": {
        "colab": {
          "base_uri": "https://localhost:8080/",
          "height": 600
        },
        "id": "OvNL_ZJa3wfT",
        "outputId": "eee33ddb-c5c7-4d4e-a9c3-8c42b651b1d5"
      },
      "execution_count": null,
      "outputs": [
        {
          "output_type": "stream",
          "name": "stderr",
          "text": [
            "/usr/local/lib/python3.8/dist-packages/statsmodels/graphics/tsaplots.py:348: FutureWarning: The default method 'yw' can produce PACF values outside of the [-1,1] interval. After 0.13, the default will change tounadjusted Yule-Walker ('ywm'). You can use this method now by setting method='ywm'.\n",
            "  warnings.warn(\n"
          ]
        },
        {
          "output_type": "display_data",
          "data": {
            "text/plain": [
              "<Figure size 432x288 with 1 Axes>"
            ],
            "image/png": "[encoded data removed]"
          },
          "metadata": {
            "needs_background": "light"
          }
        },
        {
          "output_type": "display_data",
          "data": {
            "text/plain": [
              "<Figure size 432x288 with 1 Axes>"
            ],
            "image/png": "[encoded data removed]"
          },
          "metadata": {
            "needs_background": "light"
          }
        }
      ]
    },
    {
      "cell_type": "code",
      "source": [
        "from pmdarima.arima import ADFTest"
      ],
      "metadata": {
        "id": "buVNkbAN6MmS"
      },
      "execution_count": null,
      "outputs": []
    },
    {
      "cell_type": "code",
      "source": [
        "adf_test = ADFTest(alpha=0.5)\n",
        "adf_test.should_diff(data)"
      ],
      "metadata": {
        "colab": {
          "base_uri": "https://localhost:8080/"
        },
        "id": "C3t32rC-p1e8",
        "outputId": "b0331822-d2f9-45a0-d9fb-b99d089c79f4"
      },
      "execution_count": null,
      "outputs": [
        {
          "output_type": "execute_result",
          "data": {
            "text/plain": [
              "(0.01, False)"
            ]
          },
          "metadata": {},
          "execution_count": 39
        }
      ]
    },
    {
      "cell_type": "markdown",
      "source": [
        "Todo sugiere que los datos son \"***ESTACIONARIOS***\""
      ],
      "metadata": {
        "id": "vQVyZTUp7b2L"
      }
    },
    {
      "cell_type": "code",
      "source": [
        "train_size = int(0.85 * len(data))\n",
        "test_size = len(data) - train_size\n",
        "\n",
        "univariate_df = data[['Week', 'Sales']].copy()\n",
        "univariate_df.columns = ['ds', 'y']\n",
        "\n",
        "train = univariate_df.iloc[:train_size, :]\n",
        "\n",
        "x_train, y_train = pd.DataFrame(univariate_df.iloc[:train_size, 0]), pd.DataFrame(univariate_df.iloc[:train_size, 1])\n",
        "x_valid, y_valid = pd.DataFrame(univariate_df.iloc[train_size:, 0]), pd.DataFrame(univariate_df.iloc[train_size:, 1])\n",
        "\n",
        "print(len(train), len(x_valid))"
      ],
      "metadata": {
        "colab": {
          "base_uri": "https://localhost:8080/"
        },
        "id": "aR_V0PcF5EvA",
        "outputId": "ebe6f796-9238-45ce-a85e-8b1678e87d10"
      },
      "execution_count": null,
      "outputs": [
        {
          "output_type": "stream",
          "name": "stdout",
          "text": [
            "121 22\n"
          ]
        }
      ]
    },
    {
      "cell_type": "code",
      "source": [
        "from pmdarima import auto_arima"
      ],
      "metadata": {
        "id": "9thOgAowQ04O"
      },
      "execution_count": null,
      "outputs": []
    },
    {
      "cell_type": "code",
      "source": [
        "model = auto_arima(y_train,start_p = 1, d = 1, start_q = 2, m = 52,\n",
        "                   max_p = 5, max_d = 5, max_q = 5, start_P = 0,\n",
        "                   D = 1, start_Q = 0, max_P = 5,max_D=5,\n",
        "                   max_Q = 5, seasonal=True,\n",
        "                   error_action ='warn', trace = True,\n",
        "                   suppress_warnings = True, stepwise = True,\n",
        "                   random_state = 20, n_fits = 50)"
      ],
      "metadata": {
        "colab": {
          "base_uri": "https://localhost:8080/"
        },
        "id": "GZbPNzk0Q9y0",
        "outputId": "721c1503-3634-43e6-f942-749ba90f9f5d"
      },
      "execution_count": null,
      "outputs": [
        {
          "output_type": "stream",
          "name": "stdout",
          "text": [
            "Performing stepwise search to minimize aic\n",
            " ARIMA(1,1,2)(0,1,0)[52]             : AIC=2320.936, Time=1.74 sec\n",
            " ARIMA(0,1,0)(0,1,0)[52]             : AIC=2339.608, Time=0.20 sec\n",
            " ARIMA(1,1,0)(1,1,0)[52]             : AIC=2304.240, Time=1.92 sec\n",
            " ARIMA(0,1,1)(0,1,1)[52]             : AIC=2295.684, Time=2.55 sec\n",
            " ARIMA(0,1,1)(0,1,0)[52]             : AIC=2322.618, Time=0.34 sec\n",
            " ARIMA(0,1,1)(1,1,1)[52]             : AIC=2297.646, Time=5.17 sec\n",
            " ARIMA(0,1,1)(0,1,2)[52]             : AIC=2297.637, Time=7.95 sec\n",
            " ARIMA(0,1,1)(1,1,0)[52]             : AIC=2299.145, Time=1.73 sec\n",
            " ARIMA(0,1,1)(1,1,2)[52]             : AIC=inf, Time=27.93 sec\n",
            " ARIMA(0,1,0)(0,1,1)[52]             : AIC=2307.245, Time=3.50 sec\n",
            " ARIMA(1,1,1)(0,1,1)[52]             : AIC=2296.322, Time=3.81 sec\n",
            " ARIMA(0,1,2)(0,1,1)[52]             : AIC=inf, Time=6.07 sec\n",
            " ARIMA(1,1,0)(0,1,1)[52]             : AIC=2301.758, Time=2.70 sec\n",
            " ARIMA(1,1,2)(0,1,1)[52]             : AIC=2292.525, Time=15.97 sec\n",
            " ARIMA(1,1,2)(1,1,1)[52]             : AIC=inf, Time=27.20 sec\n",
            " ARIMA(1,1,2)(0,1,2)[52]             : AIC=inf, Time=22.10 sec\n",
            " ARIMA(1,1,2)(1,1,0)[52]             : AIC=2296.792, Time=7.82 sec\n",
            " ARIMA(1,1,2)(1,1,2)[52]             : AIC=inf, Time=50.20 sec\n",
            " ARIMA(2,1,2)(0,1,1)[52]             : AIC=inf, Time=7.84 sec\n",
            " ARIMA(1,1,3)(0,1,1)[52]             : AIC=inf, Time=8.05 sec\n",
            " ARIMA(0,1,3)(0,1,1)[52]             : AIC=inf, Time=4.88 sec\n",
            " ARIMA(2,1,1)(0,1,1)[52]             : AIC=2295.575, Time=11.81 sec\n",
            " ARIMA(2,1,3)(0,1,1)[52]             : AIC=inf, Time=15.25 sec\n",
            " ARIMA(1,1,2)(0,1,1)[52] intercept   : AIC=2295.393, Time=13.89 sec\n",
            "\n",
            "Best model:  ARIMA(1,1,2)(0,1,1)[52]          \n",
            "Total fit time: 250.796 seconds\n"
          ]
        }
      ]
    },
    {
      "cell_type": "code",
      "source": [
        "data = univariate_df.filter(['y'])\n",
        "\n",
        "dataset = data.values\n",
        "\n",
        "scaler = MinMaxScaler(feature_range=(-1, 0))\n",
        "scaled_data = scaler.fit_transform(dataset)\n",
        "\n",
        "scaled_data[:10]"
      ],
      "metadata": {
        "colab": {
          "base_uri": "https://localhost:8080/"
        },
        "id": "HL8tTUEB57jG",
        "outputId": "71ce568f-16db-4b70-e3c2-7b45eeec2d4a"
      },
      "execution_count": null,
      "outputs": [
        {
          "output_type": "execute_result",
          "data": {
            "text/plain": [
              "array([[-0.93612574],\n",
              "       [-0.73811834],\n",
              "       [-0.77456377],\n",
              "       [-0.79006018],\n",
              "       [-0.89430068],\n",
              "       [-0.81625653],\n",
              "       [-0.75057379],\n",
              "       [-0.86961244],\n",
              "       [-0.89029914],\n",
              "       [-0.74381104]])"
            ]
          },
          "metadata": {},
          "execution_count": 124
        }
      ]
    },
    {
      "cell_type": "code",
      "source": [
        "look_back = 52\n",
        "\n",
        "train, test = scaled_data[:train_size-look_back,:], scaled_data[train_size-look_back:,:]\n",
        "\n",
        "def create_dataset(dataset, look_back=1):\n",
        "    X, Y = [], []\n",
        "    for i in range(look_back, len(dataset)):\n",
        "        a = dataset[i-look_back:i, 0]\n",
        "        X.append(a)\n",
        "        Y.append(dataset[i, 0])\n",
        "    return np.array(X), np.array(Y)\n",
        "\n",
        "x_train, y_train = create_dataset(train, look_back)\n",
        "x_test, y_test = create_dataset(test, look_back)\n",
        "\n",
        "\n",
        "x_train = np.reshape(x_train, (x_train.shape[0], 1, x_train.shape[1]))\n",
        "x_test = np.reshape(x_test, (x_test.shape[0], 1, x_test.shape[1]))\n",
        "\n",
        "print(len(x_train), len(x_test))"
      ],
      "metadata": {
        "colab": {
          "base_uri": "https://localhost:8080/"
        },
        "id": "DCSrYq165-_u",
        "outputId": "7c809f38-2409-4b83-bb0d-4636672f98e8"
      },
      "execution_count": null,
      "outputs": [
        {
          "output_type": "stream",
          "name": "stdout",
          "text": [
            "17 22\n"
          ]
        }
      ]
    },
    {
      "cell_type": "code",
      "source": [
        "model = Sequential()\n",
        "model.add(LSTM(128, return_sequences=True, input_shape=(x_train.shape[1], x_train.shape[2])))\n",
        "model.add(LSTM(64, return_sequences=False))\n",
        "model.add(Dense(25))\n",
        "model.add(Dense(1))\n",
        "\n",
        "\n",
        "model.compile(optimizer='adam', loss='mean_squared_error')\n",
        "\n",
        "model.fit(x_train, y_train, batch_size=1, epochs=5, validation_data=(x_test, y_test))\n",
        "\n",
        "model.summary()"
      ],
      "metadata": {
        "colab": {
          "base_uri": "https://localhost:8080/"
        },
        "id": "w0cmxpiY5_ia",
        "outputId": "62273457-30d3-4a3b-f443-2e1ce2d1f35f"
      },
      "execution_count": null,
      "outputs": [
        {
          "output_type": "stream",
          "name": "stdout",
          "text": [
            "Epoch 1/5\n",
            "17/17 [==============================] - 8s 82ms/step - loss: 0.2238 - val_loss: 0.0722\n",
            "Epoch 2/5\n",
            "17/17 [==============================] - 0s 9ms/step - loss: 0.0164 - val_loss: 0.0045\n",
            "Epoch 3/5\n",
            "17/17 [==============================] - 0s 7ms/step - loss: 0.0047 - val_loss: 0.0031\n",
            "Epoch 4/5\n",
            "17/17 [==============================] - 0s 9ms/step - loss: 0.0044 - val_loss: 0.0022\n",
            "Epoch 5/5\n",
            "17/17 [==============================] - 0s 9ms/step - loss: 0.0045 - val_loss: 0.0023\n",
            "Model: \"sequential_2\"\n",
            "_________________________________________________________________\n",
            " Layer (type)                Output Shape              Param #   \n",
            "=================================================================\n",
            " lstm_4 (LSTM)               (None, 1, 128)            92672     \n",
            "                                                                 \n",
            " lstm_5 (LSTM)               (None, 64)                49408     \n",
            "                                                                 \n",
            " dense_4 (Dense)             (None, 25)                1625      \n",
            "                                                                 \n",
            " dense_5 (Dense)             (None, 1)                 26        \n",
            "                                                                 \n",
            "=================================================================\n",
            "Total params: 143,731\n",
            "Trainable params: 143,731\n",
            "Non-trainable params: 0\n",
            "_________________________________________________________________\n"
          ]
        }
      ]
    },
    {
      "cell_type": "code",
      "source": [
        "train_predict = model.predict(x_train)\n",
        "test_predict = model.predict(x_test)\n",
        "\n",
        "train_predict = scaler.inverse_transform(train_predict)\n",
        "y_train = scaler.inverse_transform([y_train])\n",
        "\n",
        "test_predict = scaler.inverse_transform(test_predict)\n",
        "y_test = scaler.inverse_transform([y_test])\n",
        "\n",
        "score_rmse = np.sqrt(mean_squared_error(y_test[0], test_predict[:,0]))\n",
        "score_mae = mean_absolute_error(y_test[0], test_predict[:,0])\n",
        "score_mape = mean_absolute_percentage_error(y_test[0], test_predict[:,0])\n",
        "print(Fore.GREEN + 'RMSE: {}'.format(score_rmse))\n",
        "print(Fore.GREEN + 'MAE: {}'.format(score_mae))\n",
        "print(Fore.GREEN + 'MAPE: {}'.format(score_mape))"
      ],
      "metadata": {
        "colab": {
          "base_uri": "https://localhost:8080/"
        },
        "id": "oIMLKbR76Bpw",
        "outputId": "5a1a25a8-e07b-48f8-b2b9-122999abc9fa"
      },
      "execution_count": null,
      "outputs": [
        {
          "output_type": "stream",
          "name": "stdout",
          "text": [
            "1/1 [==============================] - 1s 1s/step\n",
            "1/1 [==============================] - 0s 33ms/step\n",
            "\u001b[32mRMSE: 1971525.5174700208\n",
            "\u001b[32mMAE: 1511108.686818184\n",
            "\u001b[32mMAPE: 0.03193780209356846\n"
          ]
        }
      ]
    },
    {
      "cell_type": "code",
      "source": [
        "x_train_ticks = univariate_df.head(train_size)['ds']\n",
        "y_train = univariate_df.head(train_size)['y']\n",
        "x_test_ticks = univariate_df.tail(test_size)['ds']\n",
        "\n",
        "f, ax = plt.subplots(1)\n",
        "f.set_figheight(6)\n",
        "f.set_figwidth(15)\n",
        "\n",
        "sns.lineplot(x=x_train_ticks, y=y_train, ax=ax, label='Train Set') #navajowhite\n",
        "sns.lineplot(x=x_test_ticks, y=test_predict[:,0], ax=ax, color='green', label='Prediction') #navajowhite\n",
        "sns.lineplot(x=x_test_ticks, y=y_test[0], ax=ax, color='orange', label='Ground truth') #navajowhite\n",
        "\n",
        "ax.set_title(f'Prediction \\n MAE: {score_mae:.2f}, RMSE: {score_rmse:.2f},MAPE: {score_mape:.2f}', fontsize=14)\n",
        "ax.set_xlabel(xlabel='Date', fontsize=14)\n",
        "ax.set_ylabel(ylabel='Depth to Groundwater', fontsize=14)\n",
        "\n",
        "plt.show()"
      ],
      "metadata": {
        "colab": {
          "base_uri": "https://localhost:8080/",
          "height": 425
        },
        "id": "czkYhXFA6GCR",
        "outputId": "773eed8c-900b-4024-c420-b9a011da10a9"
      },
      "execution_count": null,
      "outputs": [
        {
          "output_type": "display_data",
          "data": {
            "text/plain": [
              "<Figure size 1080x432 with 1 Axes>"
            ],
            "image/png": "[encoded data removed]"
          },
          "metadata": {
            "needs_background": "light"
          }
        }
      ]
    }
  ]
}